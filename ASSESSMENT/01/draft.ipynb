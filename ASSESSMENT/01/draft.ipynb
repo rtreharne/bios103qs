{
 "cells": [
  {
   "cell_type": "code",
   "execution_count": 1,
   "metadata": {},
   "outputs": [],
   "source": [
    "from canvasapi import Canvas"
   ]
  },
  {
   "cell_type": "code",
   "execution_count": 2,
   "metadata": {},
   "outputs": [],
   "source": [
    "CANVAS_URL = \"https://canvas.liverpool.ac.uk\"\n",
    "CANVAS_TOKEN = \"15502~xHYDWhcEk3kN4AC8KzUtLLVHHYG9em7xyECDYXLJktxnHUNKxexTW483LvDReEP2\""
   ]
  },
  {
   "cell_type": "code",
   "execution_count": 3,
   "metadata": {},
   "outputs": [],
   "source": [
    "canvas = Canvas(CANVAS_URL, CANVAS_TOKEN)"
   ]
  },
  {
   "cell_type": "code",
   "execution_count": 4,
   "metadata": {},
   "outputs": [],
   "source": [
    "course = canvas.get_course(76918)"
   ]
  },
  {
   "cell_type": "code",
   "execution_count": 5,
   "metadata": {},
   "outputs": [],
   "source": [
    "quizzes = [x for x in course.get_quizzes()]"
   ]
  },
  {
   "cell_type": "code",
   "execution_count": 7,
   "metadata": {},
   "outputs": [],
   "source": [
    "quiz = quizzes[0]"
   ]
  },
  {
   "cell_type": "code",
   "execution_count": 91,
   "metadata": {},
   "outputs": [],
   "source": [
    "quiz_group = quiz.create_question_group(quiz_groups=[{'name': 'Test Question Group', 'pick_count': 1, 'question_points': 1}])"
   ]
  },
  {
   "cell_type": "code",
   "execution_count": 92,
   "metadata": {},
   "outputs": [
    {
     "data": {
      "text/plain": [
       "{'_requester': <canvasapi.requester.Requester at 0x20b7b563260>,\n",
       " 'id': 43305,\n",
       " 'quiz_id': 159145,\n",
       " 'name': 'Test Question Group',\n",
       " 'pick_count': 1,\n",
       " 'question_points': 1.0,\n",
       " 'position': 1,\n",
       " 'assessment_question_bank_id': None,\n",
       " 'course_id': 159145}"
      ]
     },
     "execution_count": 92,
     "metadata": {},
     "output_type": "execute_result"
    }
   ],
   "source": [
    "quiz_group.__dict__"
   ]
  },
  {
   "cell_type": "code",
   "execution_count": 93,
   "metadata": {},
   "outputs": [],
   "source": [
    "for _ in range(2):\n",
    "    question = quiz.create_question(question=\n",
    "        {\n",
    "            'question_name': 'Test Question', \n",
    "            'question_text': 'What is the answer?', \n",
    "            'points_possible': 1, \n",
    "            'question_type': 'numerical_question',\n",
    "            'quiz_group_id': quiz_group.id,\n",
    "            'correct_comments': 'Correct, well done!',\n",
    "            'incorrect_comments': 'Incorrect, try again!',\n",
    "            'answers': [\n",
    "                {\n",
    "                    'text': 'Answer 1', \n",
    "                    'weight': 100, \n",
    "                    'numerical_answer_type': 'exact_answer',\n",
    "                    'answer_exact': 42,\n",
    "                    'answer_error_margin': 1\n",
    "                }, \n",
    "                ]\n",
    "            }\n",
    "        )"
   ]
  },
  {
   "cell_type": "code",
   "execution_count": 87,
   "metadata": {},
   "outputs": [],
   "source": [
    "question_data = {\n",
    "    'question': {\n",
    "        'question_name': 'Test Question',\n",
    "        'question_text': 'What is the answer?',\n",
    "        'points_possible': 1,\n",
    "        'question_type': 'numerical_question',\n",
    "        #'quiz_group_id': quiz_group.id,\n",
    "        'correct_comments': 'Correct, well done!',\n",
    "        'incorrect_comments': 'Incorrect, try again!',\n",
    "        'answers': [\n",
    "            {\n",
    "                'text': '',\n",
    "                'comments': '',\n",
    "                'comments_html': '',\n",
    "                'weight': 100,\n",
    "                'numerical_answer_type': 'exact_answer',\n",
    "                'answer_exact': 3.14,\n",
    "                'answer_error_margin': 0.01,    \n",
    "            },\n",
    "        ]\n",
    "    }\n",
    "}\n"
   ]
  },
  {
   "cell_type": "code",
   "execution_count": 95,
   "metadata": {},
   "outputs": [],
   "source": [
    "import pandas as df\n",
    "import numpy as np"
   ]
  },
  {
   "cell_type": "code",
   "execution_count": 97,
   "metadata": {},
   "outputs": [],
   "source": [
    "df = df.read_csv('week_1_snail_data.csv')"
   ]
  },
  {
   "cell_type": "code",
   "execution_count": 106,
   "metadata": {},
   "outputs": [],
   "source": [
    "def snail_answer(df, unique_id):\n",
    "\n",
    "    np.random.seed(unique_id)\n",
    "\n",
    "    sample = df.sample(n=160)\n",
    "\n",
    "    return sample\n"
   ]
  },
  {
   "cell_type": "code",
   "execution_count": 109,
   "metadata": {},
   "outputs": [],
   "source": [
    "out = snail_answer(df, 1234)"
   ]
  },
  {
   "cell_type": "code",
   "execution_count": 111,
   "metadata": {},
   "outputs": [],
   "source": [
    "# calculate a third column which is Height cubed\n",
    "out['Height cubed'] = out['Height L (mm)'] ** 3"
   ]
  },
  {
   "cell_type": "code",
   "execution_count": 112,
   "metadata": {},
   "outputs": [
    {
     "data": {
      "text/html": [
       "<div>\n",
       "<style scoped>\n",
       "    .dataframe tbody tr th:only-of-type {\n",
       "        vertical-align: middle;\n",
       "    }\n",
       "\n",
       "    .dataframe tbody tr th {\n",
       "        vertical-align: top;\n",
       "    }\n",
       "\n",
       "    .dataframe thead th {\n",
       "        text-align: right;\n",
       "    }\n",
       "</style>\n",
       "<table border=\"1\" class=\"dataframe\">\n",
       "  <thead>\n",
       "    <tr style=\"text-align: right;\">\n",
       "      <th></th>\n",
       "      <th>Snail mass M (g)</th>\n",
       "      <th>Height L (mm)</th>\n",
       "      <th>Height cubed</th>\n",
       "    </tr>\n",
       "  </thead>\n",
       "  <tbody>\n",
       "    <tr>\n",
       "      <th>2303</th>\n",
       "      <td>6.803337</td>\n",
       "      <td>29.007018</td>\n",
       "      <td>24406.710725</td>\n",
       "    </tr>\n",
       "    <tr>\n",
       "      <th>1750</th>\n",
       "      <td>7.118727</td>\n",
       "      <td>26.456410</td>\n",
       "      <td>18517.943393</td>\n",
       "    </tr>\n",
       "    <tr>\n",
       "      <th>2515</th>\n",
       "      <td>4.451655</td>\n",
       "      <td>24.319373</td>\n",
       "      <td>14383.252808</td>\n",
       "    </tr>\n",
       "    <tr>\n",
       "      <th>402</th>\n",
       "      <td>9.165967</td>\n",
       "      <td>28.305372</td>\n",
       "      <td>22678.097651</td>\n",
       "    </tr>\n",
       "    <tr>\n",
       "      <th>2372</th>\n",
       "      <td>9.419564</td>\n",
       "      <td>26.623457</td>\n",
       "      <td>18870.931222</td>\n",
       "    </tr>\n",
       "  </tbody>\n",
       "</table>\n",
       "</div>"
      ],
      "text/plain": [
       "      Snail mass M (g)  Height L (mm)  Height cubed\n",
       "2303          6.803337      29.007018  24406.710725\n",
       "1750          7.118727      26.456410  18517.943393\n",
       "2515          4.451655      24.319373  14383.252808\n",
       "402           9.165967      28.305372  22678.097651\n",
       "2372          9.419564      26.623457  18870.931222"
      ]
     },
     "execution_count": 112,
     "metadata": {},
     "output_type": "execute_result"
    }
   ],
   "source": [
    "out.head()"
   ]
  },
  {
   "cell_type": "code",
   "execution_count": 143,
   "metadata": {},
   "outputs": [],
   "source": [
    "# create a linear model for Height cubed vs snail mass and return slope, intercept\n",
    "\n",
    "from sklearn.linear_model import LinearRegression\n",
    "\n",
    "def linear_model(df):\n",
    "    X = df[['Height cubed']]\n",
    "    y = df[['Snail mass M (g)']]\n",
    "\n",
    "    model = LinearRegression().fit(y, X)\n",
    "\n",
    "    return model.coef_[0][0], model.intercept_[0]"
   ]
  },
  {
   "cell_type": "code",
   "execution_count": 145,
   "metadata": {},
   "outputs": [],
   "source": [
    "m, c = linear_model(out)"
   ]
  },
  {
   "cell_type": "code",
   "execution_count": 147,
   "metadata": {},
   "outputs": [],
   "source": [
    "y = 30000\n",
    "\n",
    "x = (y - c) / m"
   ]
  },
  {
   "cell_type": "code",
   "execution_count": 148,
   "metadata": {},
   "outputs": [
    {
     "data": {
      "text/plain": [
       "10.096894904934056"
      ]
     },
     "execution_count": 148,
     "metadata": {},
     "output_type": "execute_result"
    }
   ],
   "source": [
    "x"
   ]
  },
  {
   "cell_type": "code",
   "execution_count": null,
   "metadata": {},
   "outputs": [],
   "source": []
  }
 ],
 "metadata": {
  "kernelspec": {
   "display_name": "Python 3",
   "language": "python",
   "name": "python3"
  },
  "language_info": {
   "codemirror_mode": {
    "name": "ipython",
    "version": 3
   },
   "file_extension": ".py",
   "mimetype": "text/x-python",
   "name": "python",
   "nbconvert_exporter": "python",
   "pygments_lexer": "ipython3",
   "version": "3.12.0"
  }
 },
 "nbformat": 4,
 "nbformat_minor": 2
}

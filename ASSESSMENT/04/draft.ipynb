{
 "cells": [
  {
   "cell_type": "code",
   "execution_count": 2,
   "metadata": {},
   "outputs": [],
   "source": [
    "import pandas as pd\n",
    "import numpy as np"
   ]
  },
  {
   "cell_type": "code",
   "execution_count": 20,
   "metadata": {},
   "outputs": [],
   "source": [
    "df = pd.read_csv('pantheria_edited.csv')"
   ]
  },
  {
   "cell_type": "code",
   "execution_count": 21,
   "metadata": {},
   "outputs": [],
   "source": [
    "family_values = df['Family'].unique()"
   ]
  },
  {
   "cell_type": "code",
   "execution_count": 22,
   "metadata": {},
   "outputs": [],
   "source": [
    "frames = []\n",
    "n = 100\n",
    "\n",
    "for family in family_values:\n",
    "    family_df = df[df['Family'] == family]\n",
    "    if len(family_df) > 99:\n",
    "        frames.append(family_df.sample(n))\n",
    "        n -= 1\n",
    "    else:\n",
    "        frames.append(family_df)"
   ]
  },
  {
   "cell_type": "code",
   "execution_count": 23,
   "metadata": {},
   "outputs": [],
   "source": [
    "new_df = pd.concat(frames)"
   ]
  },
  {
   "cell_type": "code",
   "execution_count": 26,
   "metadata": {},
   "outputs": [],
   "source": [
    "new_df.to_csv('pantheria_limited.csv', index=False)"
   ]
  },
  {
   "cell_type": "code",
   "execution_count": 70,
   "metadata": {},
   "outputs": [],
   "source": [
    "np.random.seed(109)\n",
    "df = pd.read_csv('pantheria_limited.csv')\n",
    "sample = df.sample(n=2000)"
   ]
  },
  {
   "cell_type": "code",
   "execution_count": 71,
   "metadata": {},
   "outputs": [
    {
     "data": {
      "text/plain": [
       "Family\n",
       "Cricetidae          67\n",
       "Muridae             65\n",
       "Cercopithecidae     63\n",
       "Soricidae           63\n",
       "Sciuridae           61\n",
       "Pteropodidae        59\n",
       "Phyllostomidae      58\n",
       "Vespertilionidae    57\n",
       "Bovidae             56\n",
       "Molossidae          55\n",
       "dtype: int64"
      ]
     },
     "execution_count": 71,
     "metadata": {},
     "output_type": "execute_result"
    }
   ],
   "source": [
    "# count the number of rows for each Binomial\n",
    "family_counts = sample.groupby('Family').size().sort_values(ascending=False)\n",
    "family_counts.head(10)\n"
   ]
  },
  {
   "cell_type": "code",
   "execution_count": 73,
   "metadata": {},
   "outputs": [
    {
     "name": "stdout",
     "output_type": "stream",
     "text": [
      "           Family   Mean  Median     Max   Min     SD  Count\n",
      "0    Heteromyidae   48.9    44.9   100.5  12.6   29.7     16\n",
      "1  Phyllostomidae   40.3    39.2    84.8  11.1   24.7      9\n",
      "2      Cricetidae  162.1    46.6   841.3  22.5  280.4      8\n",
      "3     Didelphidae  325.1   271.5   719.1  19.6  271.6      8\n",
      "4      Dasyuridae  387.6   162.5  1617.0  19.6  548.6      8\n"
     ]
    }
   ],
   "source": [
    "import pandas as pd\n",
    "\n",
    "# Read the CSV file\n",
    "data = pd.read_csv(\"pantheria_127.csv\")\n",
    "\n",
    "# Filter out rows with BasalMetRate_mLO2hr value of -999\n",
    "data_filtered = data[data['BasalMetRate_mLO2hr'] != -999]\n",
    "\n",
    "# Count the number of rows for each unique Family value and sort in descending order\n",
    "family_counts = data_filtered['Family'].value_counts()\n",
    "\n",
    "# Get the top 5 families\n",
    "top_5_families = family_counts.head(5).index\n",
    "\n",
    "# Filter the data for the top 5 families\n",
    "top_5_data = data_filtered[data_filtered['Family'].isin(top_5_families)]\n",
    "\n",
    "# Initialize an empty DataFrame for the summary\n",
    "summary_table = pd.DataFrame(columns=['Family', 'Mean', 'Median', 'Max', 'Min', 'SD', 'Count'])\n",
    "\n",
    "# Calculate summary statistics for each family\n",
    "summary_list = []\n",
    "for family in top_5_families:\n",
    "    # Select data for the current family\n",
    "    family_data = top_5_data[top_5_data['Family'] == family]['BasalMetRate_mLO2hr']\n",
    "    \n",
    "    # Calculate statistics\n",
    "    family_mean = round(family_data.mean(), 1)\n",
    "    family_median = round(family_data.median(), 1)\n",
    "    family_max = round(family_data.max(), 1)\n",
    "    family_min = round(family_data.min(), 1)\n",
    "    family_sd = round(family_data.std(), 1)\n",
    "    family_count = len(family_data)\n",
    "    \n",
    "    # Add the results to the summary list\n",
    "    summary_list.append({\n",
    "        'Family': family,\n",
    "        'Mean': family_mean,\n",
    "        'Median': family_median,\n",
    "        'Max': family_max,\n",
    "        'Min': family_min,\n",
    "        'SD': family_sd,\n",
    "        'Count': family_count\n",
    "    })\n",
    "\n",
    "# Convert the summary list to a DataFrame\n",
    "summary_table = pd.DataFrame(summary_list)\n",
    "\n",
    "# Write the summary table to a CSV file\n",
    "summary_table.to_csv(\"summary_table.csv\", index=False)\n",
    "\n",
    "# Print the summary table\n",
    "print(summary_table)"
   ]
  },
  {
   "cell_type": "code",
   "execution_count": null,
   "metadata": {},
   "outputs": [],
   "source": []
  }
 ],
 "metadata": {
  "kernelspec": {
   "display_name": "Python 3",
   "language": "python",
   "name": "python3"
  },
  "language_info": {
   "codemirror_mode": {
    "name": "ipython",
    "version": 3
   },
   "file_extension": ".py",
   "mimetype": "text/x-python",
   "name": "python",
   "nbconvert_exporter": "python",
   "pygments_lexer": "ipython3",
   "version": "3.12.0"
  }
 },
 "nbformat": 4,
 "nbformat_minor": 2
}

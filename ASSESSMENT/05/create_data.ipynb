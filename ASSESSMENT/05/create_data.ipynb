{
 "cells": [
  {
   "cell_type": "code",
   "execution_count": 1,
   "metadata": {},
   "outputs": [
    {
     "ename": "",
     "evalue": "",
     "output_type": "error",
     "traceback": [
      "\u001b[1;31mThe Kernel crashed while executing code in the current cell or a previous cell. \n",
      "\u001b[1;31mPlease review the code in the cell(s) to identify a possible cause of the failure. \n",
      "\u001b[1;31mClick <a href='https://aka.ms/vscodeJupyterKernelCrash'>here</a> for more info. \n",
      "\u001b[1;31mView Jupyter <a href='command:jupyter.viewOutput'>log</a> for further details."
     ]
    }
   ],
   "source": [
    "import pandas as pd\n",
    "import numpy as np\n",
    "\n",
    "# Set random seed for reproducibility\n",
    "np.random.seed(123)\n",
    "\n",
    "# Define environment types\n",
    "environment_types = ['Soil', 'Water', 'Plant', 'Air']\n",
    "\n",
    "# Number of samples\n",
    "n_samples = 10000\n",
    "\n",
    "# Generate the dataset\n",
    "data = {\n",
    "    'SampleID': [f'S{i+1}' for i in range(n_samples)],\n",
    "    'EnvironmentType': np.random.choice(environment_types, n_samples, replace=True),\n",
    "    'GramPositiveCount': np.round(np.random.normal(100, 30, n_samples)).astype(int),\n",
    "    'GramNegativeCount': np.round(np.random.normal(100, 30, n_samples)).astype(int)\n",
    "}\n",
    "\n",
    "# Create DataFrame\n",
    "df = pd.DataFrame(data)\n",
    "\n",
    "# Ensure counts are non-negative\n",
    "df['GramPositiveCount'] = df['GramPositiveCount'].apply(lambda x: max(x, 0))\n",
    "df['GramNegativeCount'] = df['GramNegativeCount'].apply(lambda x: max(x, 0))\n",
    "\n",
    "# Calculate TotalCount and Proportions\n",
    "df['TotalCount'] = df['GramPositiveCount'] + df['GramNegativeCount']\n",
    "df['ProportionGramPositive'] = df['GramPositiveCount'] / df['TotalCount']\n",
    "df['ProportionGramNegative'] = df['GramNegativeCount'] / df['TotalCount']\n",
    "\n",
    "# Ensure no NaN values in proportions\n",
    "df['ProportionGramPositive'] = df['ProportionGramPositive'].fillna(0)\n",
    "df['ProportionGramNegative'] = df['ProportionGramNegative'].fillna(0)\n",
    "\n",
    "# Save the super massive dataset to a CSV file\n",
    "df.to_csv('microbiology.csv', index=False)\n"
   ]
  },
  {
   "cell_type": "code",
   "execution_count": null,
   "metadata": {},
   "outputs": [],
   "source": []
  }
 ],
 "metadata": {
  "kernelspec": {
   "display_name": "Python 3",
   "language": "python",
   "name": "python3"
  },
  "language_info": {
   "codemirror_mode": {
    "name": "ipython",
    "version": 3
   },
   "file_extension": ".py",
   "mimetype": "text/x-python",
   "name": "python",
   "nbconvert_exporter": "python",
   "pygments_lexer": "ipython3",
   "version": "3.12.0"
  }
 },
 "nbformat": 4,
 "nbformat_minor": 2
}

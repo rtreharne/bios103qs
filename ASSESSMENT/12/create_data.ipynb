{
 "cells": [
  {
   "cell_type": "markdown",
   "metadata": {},
   "source": [
    "You are analysing survival data from a dataset containing colony counts for two yeast strains treated with varying doses of a DNA-damaging agent. Your goal is to calculate the LD50 for each strain and estimate the dose at which both strains have the same log10 survival rate. \n",
    "\n",
    "Follow these steps: \n",
    "\n",
    "Start a New R Project \n",
    "\n",
    "Download the Dataset \n",
    "\n",
    "Download the provided dataset: [yeast_dose_response.csv]. This file contains columns for dose (mM of H2O2), counts_per_plate, and strain_type (WT or 3KO). \n",
    "\n",
    "Move the Dataset to Your Project Folder \n",
    "\n",
    "Calculate the % survival relative to the control dose (0 mM) for each dose level and strain. \n",
    "\n",
    "Then, create a new column for the log10 of the survival percentage, called log_survival. \n",
    "\n",
    "Plot log_survival vs. Dose \n",
    "\n",
    "For each strain, create a linear regression model in R to fit log_survival as a function of dose. \n",
    "\n",
    "Calculate LD50 for each strain \n",
    "\n",
    "Estimate the Dose for Equivalent log10 Survival \n",
    "\n",
    "Enter to estimated dose for equivalent log10 survival into the box below to 2 d.p. "
   ]
  },
  {
   "cell_type": "markdown",
   "metadata": {},
   "source": []
  }
 ],
 "metadata": {
  "language_info": {
   "name": "python"
  }
 },
 "nbformat": 4,
 "nbformat_minor": 2
}

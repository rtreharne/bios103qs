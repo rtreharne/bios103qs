{
 "cells": [
  {
   "cell_type": "code",
   "execution_count": 7,
   "metadata": {},
   "outputs": [],
   "source": [
    "import pandas as pd\n",
    "import numpy as np\n",
    "import random"
   ]
  },
  {
   "cell_type": "code",
   "execution_count": 12,
   "metadata": {},
   "outputs": [],
   "source": [
    "cherry_tomato_varieties = [\n",
    "    \"Sweet 100\", \"Sweet Million\", \"Sungold\", \"Sun Sugar\", \"Juliet\", \"Black Cherry\", \"Chocolate Cherry\",\n",
    "    \"Yellow Pear\", \"Red Pear\", \"Tiny Tim\", \"Gardener's Delight\", \"Sweet Chelsea\", \"Honeybunch\", \"Napa Grape\",\n",
    "    \"Isis Candy\", \"Tommy Toe\", \"Sakura\", \"Black Pearl\", \"Snow White\", \"Super Sweet 100\", \"Sugary\", \"Sprite\",\n",
    "    \"Sunpeach\", \"Cherry Falls\", \"Tumbling Tom Red\", \"Tumbling Tom Yellow\", \"Lollipop\", \"Golden Nugget\",\n",
    "    \"Maglia Rosa\", \"Cherry Bomb\", \"Rapunzel\", \"Red Currant\", \"Yellow Currant\", \"Indigo Cherry Drops\",\n",
    "    \"Cherry Cascade\", \"Terenzo\", \"Summer Sun\", \"Golden Sweet\", \"Cherry Buzz\", \"Bings\", \"Large Red Cherry\",\n",
    "    \"Reisentraube\", \"Rosalita\", \"Tess's Land Race\", \"Jasper\", \"Chadwick Cherry\", \"Matt's Wild Cherry\",\n",
    "    \"Green Grape\", \"Sun Chocola\", \"Red Profusion\", \"Yellow Profusion\", \"Golden Honey Bunch\", \"Chocolate Sprinkles\",\n",
    "    \"Micro Tom\", \"Pink Bumble Bee\", \"Sunrise Bumble Bee\", \"Purple Bumble Bee\", \"White Cherry\", \"Sweet Zen\",\n",
    "    \"Camp Joy\", \"Gardeners Delight\", \"F1 Sweet Aperitif\", \"Blush\", \"Berry Basket\", \"Candyland Red\", \"Mexico Midget\",\n",
    "    \"Lucky Tiger\", \"Sweethearts\", \"Favorita\", \"Tiny Totem\", \"Gold Nugget\", \"Coyote\", \"Rosalina\", \"White Currant\",\n",
    "    \"Orange Paruche\", \"Baby Boomer\", \"Red Robin\", \"Amy's Sugar Gem\", \"Mirabelle Blanche\", \"Sprite Grape\",\n",
    "    \"Pink Champagne\", \"Fireworks\", \"Peacevine Cherry\", \"Black Vernissage\", \"Orange Zinger\", \"Lucid Gem\",\n",
    "    \"Lemon Drop\", \"Red Zebra\", \"Blueberry Cherry\", \"Champagne Cherry\", \"Galina\", \"Ildi\", \"Cerise Orange\",\n",
    "    \"Clackamas Blueberry\", \"Midnight Snack\", \"Hssiao His Hung Shih\", \"Brandywine Cherry\", \"Suncherry Extra Sweet\",\n",
    "    \"Sprite Mini\", \"Bush Early Girl Cherry\"\n",
    "]\n",
    "\n",
    "light_intensity = [100, 125, 150, 175, 200, 225, 250, 275, 300, 325, 350]"
   ]
  },
  {
   "cell_type": "code",
   "execution_count": 39,
   "metadata": {},
   "outputs": [],
   "source": [
    "def generate_rows(variety, light_intensity, m=2.67, c=400):\n",
    "    rows = []\n",
    "    m = random.uniform(m-0.1*m, m+0.1*m)\n",
    "    c = random.uniform(c-0.1*c, c+0.1*c)\n",
    "    for intensity in light_intensity:\n",
    "\n",
    "        if random.random() < 0.2:\n",
    "            yield_value = -999\n",
    "        else:\n",
    "            yield_value = round(m*(1+random.uniform(-0.05, 0.05))*intensity + c*(1+random.uniform(-0.05, 0.05)), 2)\n",
    "        rows.append(\n",
    "            {\n",
    "                \"variety\": variety,\n",
    "                \"light_intensity\": intensity,\n",
    "                \"yield\": yield_value\n",
    "             }\n",
    "        )\n",
    "    return rows"
   ]
  },
  {
   "cell_type": "code",
   "execution_count": 40,
   "metadata": {},
   "outputs": [],
   "source": [
    "rows = []\n",
    "\n",
    "for variety in cherry_tomato_varieties:\n",
    "    rows.extend(generate_rows(variety, light_intensity))\n",
    "\n"
   ]
  },
  {
   "cell_type": "code",
   "execution_count": 41,
   "metadata": {},
   "outputs": [],
   "source": [
    "data = pd.DataFrame(rows)"
   ]
  },
  {
   "cell_type": "code",
   "execution_count": 42,
   "metadata": {},
   "outputs": [
    {
     "data": {
      "text/html": [
       "<div>\n",
       "<style scoped>\n",
       "    .dataframe tbody tr th:only-of-type {\n",
       "        vertical-align: middle;\n",
       "    }\n",
       "\n",
       "    .dataframe tbody tr th {\n",
       "        vertical-align: top;\n",
       "    }\n",
       "\n",
       "    .dataframe thead th {\n",
       "        text-align: right;\n",
       "    }\n",
       "</style>\n",
       "<table border=\"1\" class=\"dataframe\">\n",
       "  <thead>\n",
       "    <tr style=\"text-align: right;\">\n",
       "      <th></th>\n",
       "      <th>variety</th>\n",
       "      <th>light_intensity</th>\n",
       "      <th>yield</th>\n",
       "    </tr>\n",
       "  </thead>\n",
       "  <tbody>\n",
       "    <tr>\n",
       "      <th>0</th>\n",
       "      <td>Sweet 100</td>\n",
       "      <td>100</td>\n",
       "      <td>677.10</td>\n",
       "    </tr>\n",
       "    <tr>\n",
       "      <th>1</th>\n",
       "      <td>Sweet 100</td>\n",
       "      <td>125</td>\n",
       "      <td>743.71</td>\n",
       "    </tr>\n",
       "    <tr>\n",
       "      <th>2</th>\n",
       "      <td>Sweet 100</td>\n",
       "      <td>150</td>\n",
       "      <td>802.94</td>\n",
       "    </tr>\n",
       "    <tr>\n",
       "      <th>3</th>\n",
       "      <td>Sweet 100</td>\n",
       "      <td>175</td>\n",
       "      <td>853.23</td>\n",
       "    </tr>\n",
       "    <tr>\n",
       "      <th>4</th>\n",
       "      <td>Sweet 100</td>\n",
       "      <td>200</td>\n",
       "      <td>937.42</td>\n",
       "    </tr>\n",
       "  </tbody>\n",
       "</table>\n",
       "</div>"
      ],
      "text/plain": [
       "     variety  light_intensity   yield\n",
       "0  Sweet 100              100  677.10\n",
       "1  Sweet 100              125  743.71\n",
       "2  Sweet 100              150  802.94\n",
       "3  Sweet 100              175  853.23\n",
       "4  Sweet 100              200  937.42"
      ]
     },
     "execution_count": 42,
     "metadata": {},
     "output_type": "execute_result"
    }
   ],
   "source": [
    "data.head()"
   ]
  },
  {
   "cell_type": "code",
   "execution_count": 43,
   "metadata": {},
   "outputs": [],
   "source": [
    "data.to_csv(\"tomatoes.csv\", index=False)"
   ]
  },
  {
   "cell_type": "code",
   "execution_count": null,
   "metadata": {},
   "outputs": [],
   "source": []
  }
 ],
 "metadata": {
  "kernelspec": {
   "display_name": "Python 3",
   "language": "python",
   "name": "python3"
  },
  "language_info": {
   "codemirror_mode": {
    "name": "ipython",
    "version": 3
   },
   "file_extension": ".py",
   "mimetype": "text/x-python",
   "name": "python",
   "nbconvert_exporter": "python",
   "pygments_lexer": "ipython3",
   "version": "3.12.0"
  }
 },
 "nbformat": 4,
 "nbformat_minor": 2
}

{
 "cells": [
  {
   "cell_type": "code",
   "execution_count": null,
   "metadata": {},
   "outputs": [],
   "source": [
    "grad = 0.4"
   ]
  },
  {
   "cell_type": "code",
   "execution_count": 1,
   "metadata": {},
   "outputs": [],
   "source": [
    "import random"
   ]
  },
  {
   "cell_type": "code",
   "execution_count": 2,
   "metadata": {},
   "outputs": [],
   "source": [
    "# I want to randomly generate a number between 0.35 and 0.45\n",
    "\n",
    "grad = random.uniform(0.35, 0.45)"
   ]
  },
  {
   "cell_type": "code",
   "execution_count": 3,
   "metadata": {},
   "outputs": [
    {
     "data": {
      "text/plain": [
       "0.36474824856672855"
      ]
     },
     "execution_count": 3,
     "metadata": {},
     "output_type": "execute_result"
    }
   ],
   "source": [
    "grad"
   ]
  },
  {
   "cell_type": "code",
   "execution_count": 17,
   "metadata": {},
   "outputs": [],
   "source": [
    "rows = []\n",
    "for i in range(1000):\n",
    "    grad = random.uniform(0.35, 0.45)\n",
    "    rows.append(\n",
    "        {\n",
    "            \"Protein conc. (mg/mL)\": \"Absorbance (Arb. units)\",\n",
    "            1.5: round(1.5*grad + (1.5*grad)*random.uniform(-0.05, 0.05), 3),\n",
    "            0.75: round(0.75*grad + (0.75*grad)*random.uniform(-0.05, 0.05), 3),\n",
    "            0.375: round(0.375*grad + (0.375*grad)*random.uniform(-0.05, 0.05), 3),\n",
    "            0.187: round(0.1875*grad + (0.1875*grad)*random.uniform(-0.05, 0.05), 3),\n",
    "            0.094: round(0.09375*grad + (0.09375*grad)*random.uniform(-0.05, 0.05), 3),\n",
    "            0.047: round(0.046875*grad + (0.046875*grad)*random.uniform(-0.05, 0.05), 3),\n",
    "            0.023: round(0.0234375*grad + (0.0234375*grad)*random.uniform(-0.05, 0.05), 3),\n",
    "        }\n",
    "    )"
   ]
  },
  {
   "cell_type": "code",
   "execution_count": 12,
   "metadata": {},
   "outputs": [],
   "source": [
    "import pandas as pd"
   ]
  },
  {
   "cell_type": "code",
   "execution_count": 18,
   "metadata": {},
   "outputs": [],
   "source": [
    "df = pd.DataFrame(rows)"
   ]
  },
  {
   "cell_type": "code",
   "execution_count": 19,
   "metadata": {},
   "outputs": [
    {
     "data": {
      "text/html": [
       "<div>\n",
       "<style scoped>\n",
       "    .dataframe tbody tr th:only-of-type {\n",
       "        vertical-align: middle;\n",
       "    }\n",
       "\n",
       "    .dataframe tbody tr th {\n",
       "        vertical-align: top;\n",
       "    }\n",
       "\n",
       "    .dataframe thead th {\n",
       "        text-align: right;\n",
       "    }\n",
       "</style>\n",
       "<table border=\"1\" class=\"dataframe\">\n",
       "  <thead>\n",
       "    <tr style=\"text-align: right;\">\n",
       "      <th></th>\n",
       "      <th>Protein conc. (mg/mL)</th>\n",
       "      <th>1.5</th>\n",
       "      <th>0.75</th>\n",
       "      <th>0.375</th>\n",
       "      <th>0.187</th>\n",
       "      <th>0.094</th>\n",
       "      <th>0.047</th>\n",
       "      <th>0.023</th>\n",
       "    </tr>\n",
       "  </thead>\n",
       "  <tbody>\n",
       "    <tr>\n",
       "      <th>0</th>\n",
       "      <td>Absorbance (Arb. units)</td>\n",
       "      <td>0.559</td>\n",
       "      <td>0.268</td>\n",
       "      <td>0.138</td>\n",
       "      <td>0.065</td>\n",
       "      <td>0.033</td>\n",
       "      <td>0.017</td>\n",
       "      <td>0.009</td>\n",
       "    </tr>\n",
       "    <tr>\n",
       "      <th>1</th>\n",
       "      <td>Absorbance (Arb. units)</td>\n",
       "      <td>0.538</td>\n",
       "      <td>0.259</td>\n",
       "      <td>0.137</td>\n",
       "      <td>0.063</td>\n",
       "      <td>0.032</td>\n",
       "      <td>0.016</td>\n",
       "      <td>0.009</td>\n",
       "    </tr>\n",
       "    <tr>\n",
       "      <th>2</th>\n",
       "      <td>Absorbance (Arb. units)</td>\n",
       "      <td>0.569</td>\n",
       "      <td>0.263</td>\n",
       "      <td>0.140</td>\n",
       "      <td>0.068</td>\n",
       "      <td>0.035</td>\n",
       "      <td>0.016</td>\n",
       "      <td>0.009</td>\n",
       "    </tr>\n",
       "    <tr>\n",
       "      <th>3</th>\n",
       "      <td>Absorbance (Arb. units)</td>\n",
       "      <td>0.574</td>\n",
       "      <td>0.281</td>\n",
       "      <td>0.140</td>\n",
       "      <td>0.073</td>\n",
       "      <td>0.034</td>\n",
       "      <td>0.018</td>\n",
       "      <td>0.009</td>\n",
       "    </tr>\n",
       "    <tr>\n",
       "      <th>4</th>\n",
       "      <td>Absorbance (Arb. units)</td>\n",
       "      <td>0.667</td>\n",
       "      <td>0.325</td>\n",
       "      <td>0.168</td>\n",
       "      <td>0.084</td>\n",
       "      <td>0.043</td>\n",
       "      <td>0.020</td>\n",
       "      <td>0.011</td>\n",
       "    </tr>\n",
       "  </tbody>\n",
       "</table>\n",
       "</div>"
      ],
      "text/plain": [
       "     Protein conc. (mg/mL)    1.5   0.75  0.375  0.187  0.094  0.047  0.023\n",
       "0  Absorbance (Arb. units)  0.559  0.268  0.138  0.065  0.033  0.017  0.009\n",
       "1  Absorbance (Arb. units)  0.538  0.259  0.137  0.063  0.032  0.016  0.009\n",
       "2  Absorbance (Arb. units)  0.569  0.263  0.140  0.068  0.035  0.016  0.009\n",
       "3  Absorbance (Arb. units)  0.574  0.281  0.140  0.073  0.034  0.018  0.009\n",
       "4  Absorbance (Arb. units)  0.667  0.325  0.168  0.084  0.043  0.020  0.011"
      ]
     },
     "execution_count": 19,
     "metadata": {},
     "output_type": "execute_result"
    }
   ],
   "source": [
    "df.head()"
   ]
  },
  {
   "cell_type": "code",
   "execution_count": 20,
   "metadata": {},
   "outputs": [],
   "source": [
    "df.to_csv(\"data.csv\", index=False)"
   ]
  },
  {
   "cell_type": "code",
   "execution_count": null,
   "metadata": {},
   "outputs": [],
   "source": []
  }
 ],
 "metadata": {
  "kernelspec": {
   "display_name": "Python 3",
   "language": "python",
   "name": "python3"
  },
  "language_info": {
   "codemirror_mode": {
    "name": "ipython",
    "version": 3
   },
   "file_extension": ".py",
   "mimetype": "text/x-python",
   "name": "python",
   "nbconvert_exporter": "python",
   "pygments_lexer": "ipython3",
   "version": "3.12.0"
  }
 },
 "nbformat": 4,
 "nbformat_minor": 2
}

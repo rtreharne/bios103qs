{
 "cells": [
  {
   "cell_type": "code",
   "execution_count": 189,
   "metadata": {},
   "outputs": [],
   "source": [
    "start_data = [\n",
    "    {\"ph\": 5, \"temperature\": 20, \"activity\": 0.055},\n",
    "    {\"ph\": 5, \"temperature\": 30, \"activity\": 0.037},\n",
    "    {\"ph\": 5, \"temperature\": 40, \"activity\": 0.033},\n",
    "    {\"ph\": 7, \"temperature\": 20, \"activity\": 0.045},\n",
    "    {\"ph\": 7, \"temperature\": 30, \"activity\": 0.045},\n",
    "    {\"ph\": 7, \"temperature\": 40, \"activity\": 0.045},\n",
    "    {\"ph\": 9, \"temperature\": 20, \"activity\": 0.029},\n",
    "    {\"ph\": 9, \"temperature\": 30, \"activity\": 0.043},\n",
    "    {\"ph\": 9, \"temperature\": 40, \"activity\": 0.055},\n",
    "]"
   ]
  },
  {
   "cell_type": "code",
   "execution_count": 190,
   "metadata": {},
   "outputs": [],
   "source": [
    "import pandas as pd\n",
    "import numpy as np\n",
    "import random"
   ]
  },
  {
   "cell_type": "code",
   "execution_count": 191,
   "metadata": {},
   "outputs": [],
   "source": [
    "groups = range(1, 11)\n",
    "\n",
    "data = []\n",
    "\n",
    "for group in groups:\n",
    "    for item in start_data:\n",
    "        for _ in range(5):\n",
    "\n",
    "            new_item = {\"group\": group, \"ph\": item[\"ph\"], \"temperature\": item[\"temperature\"], \"activity\": 0}\n",
    "            new_item[\"activity\"] = round(np.random.normal(item[\"activity\"], 0.1*item[\"activity\"]), 4)\n",
    "  \n",
    "\n",
    "            data.append(new_item)\n",
    "            \n"
   ]
  },
  {
   "cell_type": "code",
   "execution_count": 192,
   "metadata": {},
   "outputs": [],
   "source": [
    "df = pd.DataFrame(data)\n",
    "df = df.sample(frac=1, random_state=1).reset_index(drop=True)"
   ]
  },
  {
   "cell_type": "code",
   "execution_count": 193,
   "metadata": {},
   "outputs": [
    {
     "name": "stderr",
     "output_type": "stream",
     "text": [
      "C:\\Users\\treharne\\AppData\\Local\\Temp\\ipykernel_21532\\3016548593.py:1: FutureWarning: Setting an item of incompatible dtype is deprecated and will raise in a future error of pandas. Value 'ERROR' has dtype incompatible with float64, please explicitly cast to a compatible dtype first.\n",
      "  df.loc[:20, 'activity'] = \"ERROR\"\n"
     ]
    }
   ],
   "source": [
    "df.loc[:20, 'activity'] = \"ERROR\"\n",
    "df.loc[20:40, 'activity'] = -1\n",
    "df.loc[40:60, 'activity'] = np.nan"
   ]
  },
  {
   "cell_type": "code",
   "execution_count": 194,
   "metadata": {},
   "outputs": [],
   "source": [
    "df = df.sample(frac=1, random_state=1).reset_index(drop=True)\n",
    "df.to_csv(\"activity.csv\", index=False)"
   ]
  },
  {
   "cell_type": "code",
   "execution_count": 147,
   "metadata": {},
   "outputs": [],
   "source": [
    "shuffled_df = df.sample(frac=1, random_state=1).reset_index(drop=True)"
   ]
  },
  {
   "cell_type": "code",
   "execution_count": 111,
   "metadata": {},
   "outputs": [
    {
     "data": {
      "text/html": [
       "<div>\n",
       "<style scoped>\n",
       "    .dataframe tbody tr th:only-of-type {\n",
       "        vertical-align: middle;\n",
       "    }\n",
       "\n",
       "    .dataframe tbody tr th {\n",
       "        vertical-align: top;\n",
       "    }\n",
       "\n",
       "    .dataframe thead th {\n",
       "        text-align: right;\n",
       "    }\n",
       "</style>\n",
       "<table border=\"1\" class=\"dataframe\">\n",
       "  <thead>\n",
       "    <tr style=\"text-align: right;\">\n",
       "      <th></th>\n",
       "      <th>group</th>\n",
       "      <th>ph</th>\n",
       "      <th>temperature</th>\n",
       "      <th>activity</th>\n",
       "    </tr>\n",
       "  </thead>\n",
       "  <tbody>\n",
       "    <tr>\n",
       "      <th>0</th>\n",
       "      <td>7</td>\n",
       "      <td>7</td>\n",
       "      <td>20</td>\n",
       "      <td>0.0435</td>\n",
       "    </tr>\n",
       "    <tr>\n",
       "      <th>1</th>\n",
       "      <td>7</td>\n",
       "      <td>9</td>\n",
       "      <td>30</td>\n",
       "      <td>0.0469</td>\n",
       "    </tr>\n",
       "    <tr>\n",
       "      <th>2</th>\n",
       "      <td>5</td>\n",
       "      <td>7</td>\n",
       "      <td>30</td>\n",
       "      <td>0.0521</td>\n",
       "    </tr>\n",
       "    <tr>\n",
       "      <th>3</th>\n",
       "      <td>3</td>\n",
       "      <td>9</td>\n",
       "      <td>30</td>\n",
       "      <td>0.0395</td>\n",
       "    </tr>\n",
       "    <tr>\n",
       "      <th>4</th>\n",
       "      <td>1</td>\n",
       "      <td>5</td>\n",
       "      <td>30</td>\n",
       "      <td>0.0413</td>\n",
       "    </tr>\n",
       "    <tr>\n",
       "      <th>...</th>\n",
       "      <td>...</td>\n",
       "      <td>...</td>\n",
       "      <td>...</td>\n",
       "      <td>...</td>\n",
       "    </tr>\n",
       "    <tr>\n",
       "      <th>445</th>\n",
       "      <td>5</td>\n",
       "      <td>7</td>\n",
       "      <td>40</td>\n",
       "      <td>0.0476</td>\n",
       "    </tr>\n",
       "    <tr>\n",
       "      <th>446</th>\n",
       "      <td>10</td>\n",
       "      <td>9</td>\n",
       "      <td>30</td>\n",
       "      <td>0.0491</td>\n",
       "    </tr>\n",
       "    <tr>\n",
       "      <th>447</th>\n",
       "      <td>8</td>\n",
       "      <td>7</td>\n",
       "      <td>40</td>\n",
       "      <td>0.0489</td>\n",
       "    </tr>\n",
       "    <tr>\n",
       "      <th>448</th>\n",
       "      <td>8</td>\n",
       "      <td>5</td>\n",
       "      <td>30</td>\n",
       "      <td>0.0364</td>\n",
       "    </tr>\n",
       "    <tr>\n",
       "      <th>449</th>\n",
       "      <td>8</td>\n",
       "      <td>5</td>\n",
       "      <td>30</td>\n",
       "      <td>0.0283</td>\n",
       "    </tr>\n",
       "  </tbody>\n",
       "</table>\n",
       "<p>450 rows × 4 columns</p>\n",
       "</div>"
      ],
      "text/plain": [
       "     group  ph  temperature activity\n",
       "0        7   7           20   0.0435\n",
       "1        7   9           30   0.0469\n",
       "2        5   7           30   0.0521\n",
       "3        3   9           30   0.0395\n",
       "4        1   5           30   0.0413\n",
       "..     ...  ..          ...      ...\n",
       "445      5   7           40   0.0476\n",
       "446     10   9           30   0.0491\n",
       "447      8   7           40   0.0489\n",
       "448      8   5           30   0.0364\n",
       "449      8   5           30   0.0283\n",
       "\n",
       "[450 rows x 4 columns]"
      ]
     },
     "execution_count": 111,
     "metadata": {},
     "output_type": "execute_result"
    }
   ],
   "source": [
    "shuffled_df"
   ]
  },
  {
   "cell_type": "code",
   "execution_count": 112,
   "metadata": {},
   "outputs": [],
   "source": [
    "shuffled_df.to_csv(\"activity.csv\", index=False)"
   ]
  },
  {
   "cell_type": "code",
   "execution_count": 227,
   "metadata": {},
   "outputs": [],
   "source": [
    "df = pd.read_csv(\"activity_100.csv\")"
   ]
  },
  {
   "cell_type": "code",
   "execution_count": 228,
   "metadata": {},
   "outputs": [
    {
     "data": {
      "text/plain": [
       "300"
      ]
     },
     "execution_count": 228,
     "metadata": {},
     "output_type": "execute_result"
    }
   ],
   "source": [
    "len(df)"
   ]
  },
  {
   "cell_type": "code",
   "execution_count": 229,
   "metadata": {},
   "outputs": [],
   "source": [
    "activity_data['activity'] = pd.to_numeric(df['activity'], errors='coerce')"
   ]
  },
  {
   "cell_type": "code",
   "execution_count": 230,
   "metadata": {},
   "outputs": [
    {
     "data": {
      "text/plain": [
       "251"
      ]
     },
     "execution_count": 230,
     "metadata": {},
     "output_type": "execute_result"
    }
   ],
   "source": [
    "len(activity_data)"
   ]
  },
  {
   "cell_type": "code",
   "execution_count": 232,
   "metadata": {},
   "outputs": [
    {
     "data": {
      "text/html": [
       "<div>\n",
       "<style scoped>\n",
       "    .dataframe tbody tr th:only-of-type {\n",
       "        vertical-align: middle;\n",
       "    }\n",
       "\n",
       "    .dataframe tbody tr th {\n",
       "        vertical-align: top;\n",
       "    }\n",
       "\n",
       "    .dataframe thead th {\n",
       "        text-align: right;\n",
       "    }\n",
       "</style>\n",
       "<table border=\"1\" class=\"dataframe\">\n",
       "  <thead>\n",
       "    <tr style=\"text-align: right;\">\n",
       "      <th></th>\n",
       "      <th>group</th>\n",
       "      <th>ph</th>\n",
       "      <th>temperature</th>\n",
       "      <th>activity</th>\n",
       "    </tr>\n",
       "  </thead>\n",
       "  <tbody>\n",
       "  </tbody>\n",
       "</table>\n",
       "</div>"
      ],
      "text/plain": [
       "Empty DataFrame\n",
       "Columns: [group, ph, temperature, activity]\n",
       "Index: []"
      ]
     },
     "execution_count": 232,
     "metadata": {},
     "output_type": "execute_result"
    }
   ],
   "source": [
    "activity_data[activity_data[\"activity\"] == -1]"
   ]
  },
  {
   "cell_type": "code",
   "execution_count": 237,
   "metadata": {},
   "outputs": [
    {
     "name": "stdout",
     "output_type": "stream",
     "text": [
      "Two-Way ANOVA Results:\n",
      "                   df    sum_sq   mean_sq           F        PR(>F)\n",
      "ph                2.0  0.000788  0.000394   21.546592  5.947351e-09\n",
      "temperature       2.0  0.000022  0.000011    0.609117  5.451702e-01\n",
      "ph:temperature    4.0  0.008458  0.002114  115.560052  8.878010e-45\n",
      "Residual        150.0  0.002745  0.000018         NaN           NaN\n"
     ]
    }
   ],
   "source": [
    "import pandas as pd\n",
    "import numpy as np\n",
    "from statsmodels.formula.api import ols\n",
    "from statsmodels.stats.anova import anova_lm\n",
    "from statsmodels.stats.multicomp import pairwise_tukeyhsd\n",
    "\n",
    "# Load the CSV file\n",
    "activity_data = pd.read_csv(\"activity_100.csv\")\n",
    "\n",
    "# Randomly sample 200 rows from the dataset\n",
    "#activity_data = activity_data.sample(n=300, random_state=42)\n",
    "\n",
    "# Convert 'activity' column to numeric\n",
    "activity_data['activity'] = pd.to_numeric(activity_data['activity'], errors='coerce')\n",
    "\n",
    "# Replace negative values in 'activity' with NaN\n",
    "activity_data.loc[activity_data['activity'] < 0, 'activity'] = np.nan\n",
    "\n",
    "# Remove na\n",
    "#activity_data = activity_data.dropna()\n",
    "\n",
    "# Convert 'ph' and 'temperature' columns to categorical (similar to factor in R)\n",
    "activity_data['ph'] = activity_data['ph'].astype('category')\n",
    "activity_data['temperature'] = activity_data['temperature'].astype('category')\n",
    "\n",
    "# Remove rows with NaN values\n",
    "activity_data.dropna(inplace=True)\n",
    "\n",
    "# Perform two-way ANOVA\n",
    "model = ols('activity ~ ph * temperature', data=activity_data).fit()\n",
    "anova_result = anova_lm(model, typ=1)\n",
    "\n",
    "print(\"Two-Way ANOVA Results:\")\n",
    "print(anova_result)\n",
    "\n",
    "# # Tukey HSD post-hoc test for significant effects (interaction)\n",
    "# tukey_result = pairwise_tukeyhsd(activity_data['activity'], activity_data['ph'].astype(str) + \"_\" + activity_data['temperature'].astype(str))\n",
    "\n",
    "# print(\"\\nTukey HSD Results:\")\n",
    "# #print(tukey_result)\n",
    "\n",
    "# tukey_result = pairwise_tukeyhsd(endog=activity_data['activity'], groups=activity_data['ph'])\n",
    "\n",
    "# print(tukey_result)\n"
   ]
  },
  {
   "cell_type": "code",
   "execution_count": 234,
   "metadata": {},
   "outputs": [
    {
     "data": {
      "text/html": [
       "<div>\n",
       "<style scoped>\n",
       "    .dataframe tbody tr th:only-of-type {\n",
       "        vertical-align: middle;\n",
       "    }\n",
       "\n",
       "    .dataframe tbody tr th {\n",
       "        vertical-align: top;\n",
       "    }\n",
       "\n",
       "    .dataframe thead th {\n",
       "        text-align: right;\n",
       "    }\n",
       "</style>\n",
       "<table border=\"1\" class=\"dataframe\">\n",
       "  <thead>\n",
       "    <tr style=\"text-align: right;\">\n",
       "      <th></th>\n",
       "      <th>group</th>\n",
       "      <th>ph</th>\n",
       "      <th>temperature</th>\n",
       "      <th>activity</th>\n",
       "    </tr>\n",
       "  </thead>\n",
       "  <tbody>\n",
       "    <tr>\n",
       "      <th>0</th>\n",
       "      <td>6</td>\n",
       "      <td>5</td>\n",
       "      <td>30</td>\n",
       "      <td>0.0333</td>\n",
       "    </tr>\n",
       "    <tr>\n",
       "      <th>1</th>\n",
       "      <td>9</td>\n",
       "      <td>5</td>\n",
       "      <td>30</td>\n",
       "      <td>0.0379</td>\n",
       "    </tr>\n",
       "    <tr>\n",
       "      <th>2</th>\n",
       "      <td>6</td>\n",
       "      <td>7</td>\n",
       "      <td>20</td>\n",
       "      <td>0.0433</td>\n",
       "    </tr>\n",
       "    <tr>\n",
       "      <th>4</th>\n",
       "      <td>2</td>\n",
       "      <td>9</td>\n",
       "      <td>30</td>\n",
       "      <td>0.0509</td>\n",
       "    </tr>\n",
       "    <tr>\n",
       "      <th>5</th>\n",
       "      <td>4</td>\n",
       "      <td>9</td>\n",
       "      <td>20</td>\n",
       "      <td>0.0261</td>\n",
       "    </tr>\n",
       "    <tr>\n",
       "      <th>...</th>\n",
       "      <td>...</td>\n",
       "      <td>...</td>\n",
       "      <td>...</td>\n",
       "      <td>...</td>\n",
       "    </tr>\n",
       "    <tr>\n",
       "      <th>295</th>\n",
       "      <td>9</td>\n",
       "      <td>9</td>\n",
       "      <td>20</td>\n",
       "      <td>0.0254</td>\n",
       "    </tr>\n",
       "    <tr>\n",
       "      <th>296</th>\n",
       "      <td>1</td>\n",
       "      <td>5</td>\n",
       "      <td>20</td>\n",
       "      <td>0.0493</td>\n",
       "    </tr>\n",
       "    <tr>\n",
       "      <th>297</th>\n",
       "      <td>7</td>\n",
       "      <td>9</td>\n",
       "      <td>40</td>\n",
       "      <td>0.0504</td>\n",
       "    </tr>\n",
       "    <tr>\n",
       "      <th>298</th>\n",
       "      <td>3</td>\n",
       "      <td>9</td>\n",
       "      <td>20</td>\n",
       "      <td>0.0283</td>\n",
       "    </tr>\n",
       "    <tr>\n",
       "      <th>299</th>\n",
       "      <td>5</td>\n",
       "      <td>7</td>\n",
       "      <td>40</td>\n",
       "      <td>0.0504</td>\n",
       "    </tr>\n",
       "  </tbody>\n",
       "</table>\n",
       "<p>251 rows × 4 columns</p>\n",
       "</div>"
      ],
      "text/plain": [
       "     group ph temperature  activity\n",
       "0        6  5          30    0.0333\n",
       "1        9  5          30    0.0379\n",
       "2        6  7          20    0.0433\n",
       "4        2  9          30    0.0509\n",
       "5        4  9          20    0.0261\n",
       "..     ... ..         ...       ...\n",
       "295      9  9          20    0.0254\n",
       "296      1  5          20    0.0493\n",
       "297      7  9          40    0.0504\n",
       "298      3  9          20    0.0283\n",
       "299      5  7          40    0.0504\n",
       "\n",
       "[251 rows x 4 columns]"
      ]
     },
     "execution_count": 234,
     "metadata": {},
     "output_type": "execute_result"
    }
   ],
   "source": [
    "activity_data"
   ]
  },
  {
   "cell_type": "code",
   "execution_count": 200,
   "metadata": {},
   "outputs": [
    {
     "data": {
      "text/plain": [
       "array([False, False, False])"
      ]
     },
     "execution_count": 200,
     "metadata": {},
     "output_type": "execute_result"
    }
   ],
   "source": [
    "tukey_result.reject"
   ]
  },
  {
   "cell_type": "code",
   "execution_count": 181,
   "metadata": {},
   "outputs": [],
   "source": [
    "tukey_result = pairwise_tukeyhsd(activity_data['activity'], activity_data['ph'].astype(str))"
   ]
  },
  {
   "cell_type": "code",
   "execution_count": 185,
   "metadata": {},
   "outputs": [
    {
     "name": "stdout",
     "output_type": "stream",
     "text": [
      "[0.00431005 0.71754423 0.03995439]\n"
     ]
    }
   ],
   "source": [
    "print(tukey_result.pvalues)"
   ]
  },
  {
   "cell_type": "code",
   "execution_count": 186,
   "metadata": {},
   "outputs": [
    {
     "name": "stdout",
     "output_type": "stream",
     "text": [
      "Multiple Comparison of Means - Tukey HSD, FWER=0.05 \n",
      "====================================================\n",
      "group1 group2 meandiff p-adj   lower   upper  reject\n",
      "----------------------------------------------------\n",
      "     5      7   0.0039 0.0043   0.001  0.0068   True\n",
      "     5      9   0.0009 0.7175 -0.0019  0.0037  False\n",
      "     7      9   -0.003   0.04 -0.0059 -0.0001   True\n",
      "----------------------------------------------------\n"
     ]
    }
   ],
   "source": [
    "print(tukey_result)"
   ]
  },
  {
   "cell_type": "code",
   "execution_count": 161,
   "metadata": {},
   "outputs": [
    {
     "data": {
      "text/plain": [
       "389"
      ]
     },
     "execution_count": 161,
     "metadata": {},
     "output_type": "execute_result"
    }
   ],
   "source": [
    "len(activity_data)"
   ]
  },
  {
   "cell_type": "code",
   "execution_count": 236,
   "metadata": {},
   "outputs": [
    {
     "name": "stdout",
     "output_type": "stream",
     "text": [
      "Tukey Results:\n",
      "Multiple Comparison of Means - Tukey HSD, FWER=0.05 \n",
      "====================================================\n",
      "group1 group2 meandiff p-adj   lower   upper  reject\n",
      "----------------------------------------------------\n",
      "     5      7   0.0051 0.0066  0.0012   0.009   True\n",
      "     5      9   0.0009  0.859  -0.003  0.0048  False\n",
      "     7      9  -0.0042 0.0313 -0.0081 -0.0003   True\n",
      "----------------------------------------------------\n"
     ]
    }
   ],
   "source": [
    "activity_data = pd.read_csv(\"activity_100.csv\")\n",
    "\n",
    "# Convert 'activity' column to numeric\n",
    "activity_data['activity'] = pd.to_numeric(activity_data['activity'], errors='coerce')\n",
    "\n",
    "# Replace negative values in 'activity' with NaN\n",
    "activity_data.loc[activity_data['activity'] < 0, 'activity'] = np.nan\n",
    "\n",
    "# Remove rows with NaN values\n",
    "activity_data.dropna(inplace=True)\n",
    "\n",
    "# Convert 'ph' and 'temperature' columns to categorical (similar to factor in R)\n",
    "activity_data['ph'] = activity_data['ph'].astype('category')\n",
    "activity_data['temperature'] = activity_data['temperature'].astype('category')\n",
    "\n",
    "print(\"Tukey Results:\")\n",
    "\n",
    "\n",
    "tukey_result = pairwise_tukeyhsd(endog=activity_data['activity'], groups=activity_data['ph'])\n",
    "\n",
    "print(tukey_result)"
   ]
  }
 ],
 "metadata": {
  "kernelspec": {
   "display_name": "Python 3",
   "language": "python",
   "name": "python3"
  },
  "language_info": {
   "codemirror_mode": {
    "name": "ipython",
    "version": 3
   },
   "file_extension": ".py",
   "mimetype": "text/x-python",
   "name": "python",
   "nbconvert_exporter": "python",
   "pygments_lexer": "ipython3",
   "version": "3.12.0"
  }
 },
 "nbformat": 4,
 "nbformat_minor": 2
}
